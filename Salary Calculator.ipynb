{
 "cells": [
  {
   "cell_type": "code",
   "execution_count": 3,
   "id": "1173f790-2239-41eb-9f8a-65bc867e0631",
   "metadata": {},
   "outputs": [
    {
     "name": "stdout",
     "output_type": "stream",
     "text": [
      "======= Welcome to Salary Calculator Program =======\n"
     ]
    },
    {
     "name": "stdin",
     "output_type": "stream",
     "text": [
      "Enter Employee Name:  Nisar\n",
      "Enter the Working Hours:  8\n",
      "Enter the Hourly Rate:  1500\n",
      "Enter the Tax Rate in percentage e.g 20:  2\n"
     ]
    },
    {
     "name": "stdout",
     "output_type": "stream",
     "text": [
      "======= Printing Salary Slip ======= September 2025\n",
      "Employee Name: Nisar\n",
      "Working Hours: 8.0 hours\n",
      "Hourly Rate: 1500.0 Rs\n",
      "Tax Rate Percentage: 2.0%\n",
      "Gross Salary: 12000.0 Rs\n",
      "Tax Amount: 240.0 Rs\n",
      "Net Salary: 11760.0 Rs\n"
     ]
    },
    {
     "name": "stdin",
     "output_type": "stream",
     "text": [
      "Do you want to calculate salary for another employee? (Y/N):  N\n"
     ]
    },
    {
     "name": "stdout",
     "output_type": "stream",
     "text": [
      "Thanks for using Salary Calculator. Have a Nice Day. Goodbye\n"
     ]
    }
   ],
   "source": [
    "# Salary Calculator Program\n",
    "\n",
    "import datetime\n",
    "\n",
    "print('======= Welcome to Salary Calculator Program =======')\n",
    "\n",
    "while True:   # Loop for multiple employees\n",
    "    try:\n",
    "    \n",
    "        # Inputs\n",
    "        emp_name = input('Enter Employee Name: ')\n",
    "        work_hours = float(input('Enter the Working Hours: '))\n",
    "        hour_rate = float(input('Enter the Hourly Rate: '))\n",
    "        tax_rate = float(input('Enter the Tax Rate in percentage e.g 20: '))\n",
    "    \n",
    "        # Calculations\n",
    "        gross_sal = work_hours * hour_rate\n",
    "        tax_amount = gross_sal * (tax_rate / 100)\n",
    "        net_sal = gross_sal - tax_amount\n",
    "    \n",
    "        # Salary Slip\n",
    "        print('======= Printing Salary Slip =======', datetime.date.today().strftime('%B %Y'))\n",
    "        print(f'Employee Name: {emp_name}')\n",
    "        print(f'Working Hours: {work_hours} hours')\n",
    "        print(f'Hourly Rate: {hour_rate} Rs')\n",
    "        print(f'Tax Rate Percentage: {tax_rate}%')\n",
    "        print(f'Gross Salary: {gross_sal} Rs')\n",
    "        print(f'Tax Amount: {tax_amount} Rs')\n",
    "        print(f'Net Salary: {net_sal} Rs')\n",
    "    except ValueError:\n",
    "        print('Invalid input. Please enter numbers for working hours, hourly rate, and tax rate.')\n",
    "        continue # This will restart the loop and ask for inputs again\n",
    "\n",
    "        # Ask user if they want to continue\n",
    "    choice = input('Do you want to calculate salary for another employee? (Y/N): ').lower()\n",
    "    if choice != 'y':\n",
    "        print('Thanks for using Salary Calculator. Have a Nice Day. Goodbye')\n",
    "        break"
   ]
  },
  {
   "cell_type": "code",
   "execution_count": null,
   "id": "fae72618-b687-49ec-878e-9e5e1a74f97b",
   "metadata": {},
   "outputs": [],
   "source": []
  }
 ],
 "metadata": {
  "kernelspec": {
   "display_name": "Python 3 (ipykernel)",
   "language": "python",
   "name": "python3"
  },
  "language_info": {
   "codemirror_mode": {
    "name": "ipython",
    "version": 3
   },
   "file_extension": ".py",
   "mimetype": "text/x-python",
   "name": "python",
   "nbconvert_exporter": "python",
   "pygments_lexer": "ipython3",
   "version": "3.13.5"
  }
 },
 "nbformat": 4,
 "nbformat_minor": 5
}
